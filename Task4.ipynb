{
 "cells": [
  {
   "cell_type": "markdown",
   "metadata": {},
   "source": [
    "# Hitarth Sharma\n",
    "# **The Spark Foundation GRIPFEB2021**\n",
    "# **Task-4 : Exploratory Data Analysis - Terrorism**\n",
    "### 1.Perform ‘Exploratory Data Analysis’ on dataset ‘Global Terrorism’ \n",
    "### 2.As a security/defense analyst, try to find out the hot zone of terrorism. \n",
    "### 3.What all security issues and insights you can derive by EDA? \n",
    "\n",
    "\n"
   ]
  },
  {
   "cell_type": "markdown",
   "metadata": {},
   "source": [
    "### Importing necessary libraries:"
   ]
  },
  {
   "cell_type": "code",
   "execution_count": 48,
   "metadata": {},
   "outputs": [],
   "source": [
    "import pandas as pd\n",
    "import numpy as np\n",
    "import matplotlib.pyplot as plt\n",
    "import seaborn as sns\n",
    "%matplotlib inline"
   ]
  },
  {
   "cell_type": "markdown",
   "metadata": {},
   "source": [
    "### Reading the dataset:"
   ]
  },
  {
   "cell_type": "code",
   "execution_count": 3,
   "metadata": {},
   "outputs": [
    {
     "data": {
      "text/html": [
       "<div>\n",
       "<style scoped>\n",
       "    .dataframe tbody tr th:only-of-type {\n",
       "        vertical-align: middle;\n",
       "    }\n",
       "\n",
       "    .dataframe tbody tr th {\n",
       "        vertical-align: top;\n",
       "    }\n",
       "\n",
       "    .dataframe thead th {\n",
       "        text-align: right;\n",
       "    }\n",
       "</style>\n",
       "<table border=\"1\" class=\"dataframe\">\n",
       "  <thead>\n",
       "    <tr style=\"text-align: right;\">\n",
       "      <th></th>\n",
       "      <th>eventid</th>\n",
       "      <th>iyear</th>\n",
       "      <th>imonth</th>\n",
       "      <th>iday</th>\n",
       "      <th>approxdate</th>\n",
       "      <th>extended</th>\n",
       "      <th>resolution</th>\n",
       "      <th>country</th>\n",
       "      <th>country_txt</th>\n",
       "      <th>region</th>\n",
       "      <th>...</th>\n",
       "      <th>addnotes</th>\n",
       "      <th>scite1</th>\n",
       "      <th>scite2</th>\n",
       "      <th>scite3</th>\n",
       "      <th>dbsource</th>\n",
       "      <th>INT_LOG</th>\n",
       "      <th>INT_IDEO</th>\n",
       "      <th>INT_MISC</th>\n",
       "      <th>INT_ANY</th>\n",
       "      <th>related</th>\n",
       "    </tr>\n",
       "  </thead>\n",
       "  <tbody>\n",
       "    <tr>\n",
       "      <th>0</th>\n",
       "      <td>197000000001</td>\n",
       "      <td>1970</td>\n",
       "      <td>7</td>\n",
       "      <td>2</td>\n",
       "      <td>NaN</td>\n",
       "      <td>0</td>\n",
       "      <td>NaN</td>\n",
       "      <td>58</td>\n",
       "      <td>Dominican Republic</td>\n",
       "      <td>2</td>\n",
       "      <td>...</td>\n",
       "      <td>NaN</td>\n",
       "      <td>NaN</td>\n",
       "      <td>NaN</td>\n",
       "      <td>NaN</td>\n",
       "      <td>PGIS</td>\n",
       "      <td>0</td>\n",
       "      <td>0</td>\n",
       "      <td>0</td>\n",
       "      <td>0</td>\n",
       "      <td>NaN</td>\n",
       "    </tr>\n",
       "    <tr>\n",
       "      <th>1</th>\n",
       "      <td>197000000002</td>\n",
       "      <td>1970</td>\n",
       "      <td>0</td>\n",
       "      <td>0</td>\n",
       "      <td>NaN</td>\n",
       "      <td>0</td>\n",
       "      <td>NaN</td>\n",
       "      <td>130</td>\n",
       "      <td>Mexico</td>\n",
       "      <td>1</td>\n",
       "      <td>...</td>\n",
       "      <td>NaN</td>\n",
       "      <td>NaN</td>\n",
       "      <td>NaN</td>\n",
       "      <td>NaN</td>\n",
       "      <td>PGIS</td>\n",
       "      <td>0</td>\n",
       "      <td>1</td>\n",
       "      <td>1</td>\n",
       "      <td>1</td>\n",
       "      <td>NaN</td>\n",
       "    </tr>\n",
       "    <tr>\n",
       "      <th>2</th>\n",
       "      <td>197001000001</td>\n",
       "      <td>1970</td>\n",
       "      <td>1</td>\n",
       "      <td>0</td>\n",
       "      <td>NaN</td>\n",
       "      <td>0</td>\n",
       "      <td>NaN</td>\n",
       "      <td>160</td>\n",
       "      <td>Philippines</td>\n",
       "      <td>5</td>\n",
       "      <td>...</td>\n",
       "      <td>NaN</td>\n",
       "      <td>NaN</td>\n",
       "      <td>NaN</td>\n",
       "      <td>NaN</td>\n",
       "      <td>PGIS</td>\n",
       "      <td>-9</td>\n",
       "      <td>-9</td>\n",
       "      <td>1</td>\n",
       "      <td>1</td>\n",
       "      <td>NaN</td>\n",
       "    </tr>\n",
       "    <tr>\n",
       "      <th>3</th>\n",
       "      <td>197001000002</td>\n",
       "      <td>1970</td>\n",
       "      <td>1</td>\n",
       "      <td>0</td>\n",
       "      <td>NaN</td>\n",
       "      <td>0</td>\n",
       "      <td>NaN</td>\n",
       "      <td>78</td>\n",
       "      <td>Greece</td>\n",
       "      <td>8</td>\n",
       "      <td>...</td>\n",
       "      <td>NaN</td>\n",
       "      <td>NaN</td>\n",
       "      <td>NaN</td>\n",
       "      <td>NaN</td>\n",
       "      <td>PGIS</td>\n",
       "      <td>-9</td>\n",
       "      <td>-9</td>\n",
       "      <td>1</td>\n",
       "      <td>1</td>\n",
       "      <td>NaN</td>\n",
       "    </tr>\n",
       "    <tr>\n",
       "      <th>4</th>\n",
       "      <td>197001000003</td>\n",
       "      <td>1970</td>\n",
       "      <td>1</td>\n",
       "      <td>0</td>\n",
       "      <td>NaN</td>\n",
       "      <td>0</td>\n",
       "      <td>NaN</td>\n",
       "      <td>101</td>\n",
       "      <td>Japan</td>\n",
       "      <td>4</td>\n",
       "      <td>...</td>\n",
       "      <td>NaN</td>\n",
       "      <td>NaN</td>\n",
       "      <td>NaN</td>\n",
       "      <td>NaN</td>\n",
       "      <td>PGIS</td>\n",
       "      <td>-9</td>\n",
       "      <td>-9</td>\n",
       "      <td>1</td>\n",
       "      <td>1</td>\n",
       "      <td>NaN</td>\n",
       "    </tr>\n",
       "  </tbody>\n",
       "</table>\n",
       "<p>5 rows × 135 columns</p>\n",
       "</div>"
      ],
      "text/plain": [
       "        eventid  iyear  imonth  iday approxdate  extended resolution  country  \\\n",
       "0  197000000001   1970       7     2        NaN         0        NaN       58   \n",
       "1  197000000002   1970       0     0        NaN         0        NaN      130   \n",
       "2  197001000001   1970       1     0        NaN         0        NaN      160   \n",
       "3  197001000002   1970       1     0        NaN         0        NaN       78   \n",
       "4  197001000003   1970       1     0        NaN         0        NaN      101   \n",
       "\n",
       "          country_txt  region  ... addnotes scite1 scite2  scite3  dbsource  \\\n",
       "0  Dominican Republic       2  ...      NaN    NaN    NaN     NaN      PGIS   \n",
       "1              Mexico       1  ...      NaN    NaN    NaN     NaN      PGIS   \n",
       "2         Philippines       5  ...      NaN    NaN    NaN     NaN      PGIS   \n",
       "3              Greece       8  ...      NaN    NaN    NaN     NaN      PGIS   \n",
       "4               Japan       4  ...      NaN    NaN    NaN     NaN      PGIS   \n",
       "\n",
       "   INT_LOG  INT_IDEO INT_MISC INT_ANY  related  \n",
       "0        0         0        0       0      NaN  \n",
       "1        0         1        1       1      NaN  \n",
       "2       -9        -9        1       1      NaN  \n",
       "3       -9        -9        1       1      NaN  \n",
       "4       -9        -9        1       1      NaN  \n",
       "\n",
       "[5 rows x 135 columns]"
      ]
     },
     "execution_count": 3,
     "metadata": {},
     "output_type": "execute_result"
    }
   ],
   "source": [
    "data=pd.read_csv('C:/Users/user/Documents/GRIP_Tasks/Global Terrorism - START 1data/globalterrorismdb_0718dist.csv',encoding=\"ISO-8859-1\")\n",
    "data.head()"
   ]
  },
  {
   "cell_type": "code",
   "execution_count": 4,
   "metadata": {},
   "outputs": [
    {
     "data": {
      "text/plain": [
       "(181691, 135)"
      ]
     },
     "execution_count": 4,
     "metadata": {},
     "output_type": "execute_result"
    }
   ],
   "source": [
    "data.shape"
   ]
  },
  {
   "cell_type": "markdown",
   "metadata": {},
   "source": [
    "there are 181691 rows and 135 columns in this dataset"
   ]
  },
  {
   "cell_type": "code",
   "execution_count": 5,
   "metadata": {},
   "outputs": [
    {
     "data": {
      "text/plain": [
       "array(['eventid', 'iyear', 'imonth', 'iday', 'approxdate', 'extended',\n",
       "       'resolution', 'country', 'country_txt', 'region', 'region_txt',\n",
       "       'provstate', 'city', 'latitude', 'longitude', 'specificity',\n",
       "       'vicinity', 'location', 'summary', 'crit1', 'crit2', 'crit3',\n",
       "       'doubtterr', 'alternative', 'alternative_txt', 'multiple',\n",
       "       'success', 'suicide', 'attacktype1', 'attacktype1_txt',\n",
       "       'attacktype2', 'attacktype2_txt', 'attacktype3', 'attacktype3_txt',\n",
       "       'targtype1', 'targtype1_txt', 'targsubtype1', 'targsubtype1_txt',\n",
       "       'corp1', 'target1', 'natlty1', 'natlty1_txt', 'targtype2',\n",
       "       'targtype2_txt', 'targsubtype2', 'targsubtype2_txt', 'corp2',\n",
       "       'target2', 'natlty2', 'natlty2_txt', 'targtype3', 'targtype3_txt',\n",
       "       'targsubtype3', 'targsubtype3_txt', 'corp3', 'target3', 'natlty3',\n",
       "       'natlty3_txt', 'gname', 'gsubname', 'gname2', 'gsubname2',\n",
       "       'gname3', 'gsubname3', 'motive', 'guncertain1', 'guncertain2',\n",
       "       'guncertain3', 'individual', 'nperps', 'nperpcap', 'claimed',\n",
       "       'claimmode', 'claimmode_txt', 'claim2', 'claimmode2',\n",
       "       'claimmode2_txt', 'claim3', 'claimmode3', 'claimmode3_txt',\n",
       "       'compclaim', 'weaptype1', 'weaptype1_txt', 'weapsubtype1',\n",
       "       'weapsubtype1_txt', 'weaptype2', 'weaptype2_txt', 'weapsubtype2',\n",
       "       'weapsubtype2_txt', 'weaptype3', 'weaptype3_txt', 'weapsubtype3',\n",
       "       'weapsubtype3_txt', 'weaptype4', 'weaptype4_txt', 'weapsubtype4',\n",
       "       'weapsubtype4_txt', 'weapdetail', 'nkill', 'nkillus', 'nkillter',\n",
       "       'nwound', 'nwoundus', 'nwoundte', 'property', 'propextent',\n",
       "       'propextent_txt', 'propvalue', 'propcomment', 'ishostkid',\n",
       "       'nhostkid', 'nhostkidus', 'nhours', 'ndays', 'divert',\n",
       "       'kidhijcountry', 'ransom', 'ransomamt', 'ransomamtus',\n",
       "       'ransompaid', 'ransompaidus', 'ransomnote', 'hostkidoutcome',\n",
       "       'hostkidoutcome_txt', 'nreleased', 'addnotes', 'scite1', 'scite2',\n",
       "       'scite3', 'dbsource', 'INT_LOG', 'INT_IDEO', 'INT_MISC', 'INT_ANY',\n",
       "       'related'], dtype=object)"
      ]
     },
     "execution_count": 5,
     "metadata": {},
     "output_type": "execute_result"
    }
   ],
   "source": [
    "data.columns.values"
   ]
  },
  {
   "cell_type": "code",
   "execution_count": 6,
   "metadata": {
    "scrolled": true
   },
   "outputs": [
    {
     "name": "stdout",
     "output_type": "stream",
     "text": [
      "<class 'pandas.core.frame.DataFrame'>\n",
      "RangeIndex: 181691 entries, 0 to 181690\n",
      "Columns: 135 entries, eventid to related\n",
      "dtypes: float64(55), int64(22), object(58)\n",
      "memory usage: 187.1+ MB\n"
     ]
    }
   ],
   "source": [
    "data.info()"
   ]
  },
  {
   "cell_type": "code",
   "execution_count": 7,
   "metadata": {},
   "outputs": [
    {
     "data": {
      "text/plain": [
       "eventid            0\n",
       "iyear              0\n",
       "imonth             0\n",
       "iday               0\n",
       "approxdate    172452\n",
       "               ...  \n",
       "INT_LOG            0\n",
       "INT_IDEO           0\n",
       "INT_MISC           0\n",
       "INT_ANY            0\n",
       "related       156653\n",
       "Length: 135, dtype: int64"
      ]
     },
     "execution_count": 7,
     "metadata": {},
     "output_type": "execute_result"
    }
   ],
   "source": [
    "data.isnull().sum()"
   ]
  },
  {
   "cell_type": "markdown",
   "metadata": {},
   "source": [
    "#### Renaming the columns for better understanding:"
   ]
  },
  {
   "cell_type": "code",
   "execution_count": 8,
   "metadata": {
    "scrolled": true
   },
   "outputs": [
    {
     "data": {
      "text/html": [
       "<div>\n",
       "<style scoped>\n",
       "    .dataframe tbody tr th:only-of-type {\n",
       "        vertical-align: middle;\n",
       "    }\n",
       "\n",
       "    .dataframe tbody tr th {\n",
       "        vertical-align: top;\n",
       "    }\n",
       "\n",
       "    .dataframe thead th {\n",
       "        text-align: right;\n",
       "    }\n",
       "</style>\n",
       "<table border=\"1\" class=\"dataframe\">\n",
       "  <thead>\n",
       "    <tr style=\"text-align: right;\">\n",
       "      <th></th>\n",
       "      <th>Event ID</th>\n",
       "      <th>Year</th>\n",
       "      <th>Month</th>\n",
       "      <th>Day</th>\n",
       "      <th>approxdate</th>\n",
       "      <th>extended</th>\n",
       "      <th>resolution</th>\n",
       "      <th>country</th>\n",
       "      <th>Country</th>\n",
       "      <th>region</th>\n",
       "      <th>...</th>\n",
       "      <th>addnotes</th>\n",
       "      <th>scite1</th>\n",
       "      <th>scite2</th>\n",
       "      <th>scite3</th>\n",
       "      <th>dbsource</th>\n",
       "      <th>INT_LOG</th>\n",
       "      <th>INT_IDEO</th>\n",
       "      <th>INT_MISC</th>\n",
       "      <th>INT_ANY</th>\n",
       "      <th>related</th>\n",
       "    </tr>\n",
       "  </thead>\n",
       "  <tbody>\n",
       "    <tr>\n",
       "      <th>0</th>\n",
       "      <td>197000000001</td>\n",
       "      <td>1970</td>\n",
       "      <td>7</td>\n",
       "      <td>2</td>\n",
       "      <td>NaN</td>\n",
       "      <td>0</td>\n",
       "      <td>NaN</td>\n",
       "      <td>58</td>\n",
       "      <td>Dominican Republic</td>\n",
       "      <td>2</td>\n",
       "      <td>...</td>\n",
       "      <td>NaN</td>\n",
       "      <td>NaN</td>\n",
       "      <td>NaN</td>\n",
       "      <td>NaN</td>\n",
       "      <td>PGIS</td>\n",
       "      <td>0</td>\n",
       "      <td>0</td>\n",
       "      <td>0</td>\n",
       "      <td>0</td>\n",
       "      <td>NaN</td>\n",
       "    </tr>\n",
       "    <tr>\n",
       "      <th>1</th>\n",
       "      <td>197000000002</td>\n",
       "      <td>1970</td>\n",
       "      <td>0</td>\n",
       "      <td>0</td>\n",
       "      <td>NaN</td>\n",
       "      <td>0</td>\n",
       "      <td>NaN</td>\n",
       "      <td>130</td>\n",
       "      <td>Mexico</td>\n",
       "      <td>1</td>\n",
       "      <td>...</td>\n",
       "      <td>NaN</td>\n",
       "      <td>NaN</td>\n",
       "      <td>NaN</td>\n",
       "      <td>NaN</td>\n",
       "      <td>PGIS</td>\n",
       "      <td>0</td>\n",
       "      <td>1</td>\n",
       "      <td>1</td>\n",
       "      <td>1</td>\n",
       "      <td>NaN</td>\n",
       "    </tr>\n",
       "    <tr>\n",
       "      <th>2</th>\n",
       "      <td>197001000001</td>\n",
       "      <td>1970</td>\n",
       "      <td>1</td>\n",
       "      <td>0</td>\n",
       "      <td>NaN</td>\n",
       "      <td>0</td>\n",
       "      <td>NaN</td>\n",
       "      <td>160</td>\n",
       "      <td>Philippines</td>\n",
       "      <td>5</td>\n",
       "      <td>...</td>\n",
       "      <td>NaN</td>\n",
       "      <td>NaN</td>\n",
       "      <td>NaN</td>\n",
       "      <td>NaN</td>\n",
       "      <td>PGIS</td>\n",
       "      <td>-9</td>\n",
       "      <td>-9</td>\n",
       "      <td>1</td>\n",
       "      <td>1</td>\n",
       "      <td>NaN</td>\n",
       "    </tr>\n",
       "    <tr>\n",
       "      <th>3</th>\n",
       "      <td>197001000002</td>\n",
       "      <td>1970</td>\n",
       "      <td>1</td>\n",
       "      <td>0</td>\n",
       "      <td>NaN</td>\n",
       "      <td>0</td>\n",
       "      <td>NaN</td>\n",
       "      <td>78</td>\n",
       "      <td>Greece</td>\n",
       "      <td>8</td>\n",
       "      <td>...</td>\n",
       "      <td>NaN</td>\n",
       "      <td>NaN</td>\n",
       "      <td>NaN</td>\n",
       "      <td>NaN</td>\n",
       "      <td>PGIS</td>\n",
       "      <td>-9</td>\n",
       "      <td>-9</td>\n",
       "      <td>1</td>\n",
       "      <td>1</td>\n",
       "      <td>NaN</td>\n",
       "    </tr>\n",
       "    <tr>\n",
       "      <th>4</th>\n",
       "      <td>197001000003</td>\n",
       "      <td>1970</td>\n",
       "      <td>1</td>\n",
       "      <td>0</td>\n",
       "      <td>NaN</td>\n",
       "      <td>0</td>\n",
       "      <td>NaN</td>\n",
       "      <td>101</td>\n",
       "      <td>Japan</td>\n",
       "      <td>4</td>\n",
       "      <td>...</td>\n",
       "      <td>NaN</td>\n",
       "      <td>NaN</td>\n",
       "      <td>NaN</td>\n",
       "      <td>NaN</td>\n",
       "      <td>PGIS</td>\n",
       "      <td>-9</td>\n",
       "      <td>-9</td>\n",
       "      <td>1</td>\n",
       "      <td>1</td>\n",
       "      <td>NaN</td>\n",
       "    </tr>\n",
       "  </tbody>\n",
       "</table>\n",
       "<p>5 rows × 135 columns</p>\n",
       "</div>"
      ],
      "text/plain": [
       "       Event ID  Year  Month  Day approxdate  extended resolution  country  \\\n",
       "0  197000000001  1970      7    2        NaN         0        NaN       58   \n",
       "1  197000000002  1970      0    0        NaN         0        NaN      130   \n",
       "2  197001000001  1970      1    0        NaN         0        NaN      160   \n",
       "3  197001000002  1970      1    0        NaN         0        NaN       78   \n",
       "4  197001000003  1970      1    0        NaN         0        NaN      101   \n",
       "\n",
       "              Country  region  ... addnotes scite1 scite2  scite3  dbsource  \\\n",
       "0  Dominican Republic       2  ...      NaN    NaN    NaN     NaN      PGIS   \n",
       "1              Mexico       1  ...      NaN    NaN    NaN     NaN      PGIS   \n",
       "2         Philippines       5  ...      NaN    NaN    NaN     NaN      PGIS   \n",
       "3              Greece       8  ...      NaN    NaN    NaN     NaN      PGIS   \n",
       "4               Japan       4  ...      NaN    NaN    NaN     NaN      PGIS   \n",
       "\n",
       "   INT_LOG  INT_IDEO INT_MISC INT_ANY  related  \n",
       "0        0         0        0       0      NaN  \n",
       "1        0         1        1       1      NaN  \n",
       "2       -9        -9        1       1      NaN  \n",
       "3       -9        -9        1       1      NaN  \n",
       "4       -9        -9        1       1      NaN  \n",
       "\n",
       "[5 rows x 135 columns]"
      ]
     },
     "execution_count": 8,
     "metadata": {},
     "output_type": "execute_result"
    }
   ],
   "source": [
    "data=data.rename(columns={'eventid':'Event ID','iyear':'Year','imonth':'Month','iday':'Day',\n",
    "                     'country_txt':'Country','region_txt':'Region','provstate':'State',\n",
    "                     'city':'City','latitude':'Latitude','longitude':'Longitude',\n",
    "                    'attacktype1_txt':'AttackType','targtype1_txt':'TargetType','targsubtype1_txt':'TargetSubtype',\n",
    "                   'natlty1_txt':'Nationality','gname':'GroupName','weaptype1_txt':'WeaponType','nkill':'Killed',\n",
    "                     'nwound':'Wounded'})\n",
    "data.head()"
   ]
  },
  {
   "cell_type": "markdown",
   "metadata": {},
   "source": [
    "#### Selecting the necessary columns for data exploration:"
   ]
  },
  {
   "cell_type": "code",
   "execution_count": 9,
   "metadata": {},
   "outputs": [
    {
     "data": {
      "text/html": [
       "<div>\n",
       "<style scoped>\n",
       "    .dataframe tbody tr th:only-of-type {\n",
       "        vertical-align: middle;\n",
       "    }\n",
       "\n",
       "    .dataframe tbody tr th {\n",
       "        vertical-align: top;\n",
       "    }\n",
       "\n",
       "    .dataframe thead th {\n",
       "        text-align: right;\n",
       "    }\n",
       "</style>\n",
       "<table border=\"1\" class=\"dataframe\">\n",
       "  <thead>\n",
       "    <tr style=\"text-align: right;\">\n",
       "      <th></th>\n",
       "      <th>Year</th>\n",
       "      <th>Month</th>\n",
       "      <th>Day</th>\n",
       "      <th>Country</th>\n",
       "      <th>Region</th>\n",
       "      <th>State</th>\n",
       "      <th>City</th>\n",
       "      <th>Latitude</th>\n",
       "      <th>Longitude</th>\n",
       "      <th>AttackType</th>\n",
       "      <th>TargetType</th>\n",
       "      <th>TargetSubtype</th>\n",
       "      <th>Nationality</th>\n",
       "      <th>GroupName</th>\n",
       "      <th>WeaponType</th>\n",
       "      <th>Killed</th>\n",
       "      <th>Wounded</th>\n",
       "    </tr>\n",
       "  </thead>\n",
       "  <tbody>\n",
       "    <tr>\n",
       "      <th>0</th>\n",
       "      <td>1970</td>\n",
       "      <td>7</td>\n",
       "      <td>2</td>\n",
       "      <td>Dominican Republic</td>\n",
       "      <td>Central America &amp; Caribbean</td>\n",
       "      <td>NaN</td>\n",
       "      <td>Santo Domingo</td>\n",
       "      <td>18.456792</td>\n",
       "      <td>-69.951164</td>\n",
       "      <td>Assassination</td>\n",
       "      <td>Private Citizens &amp; Property</td>\n",
       "      <td>Named Civilian</td>\n",
       "      <td>Dominican Republic</td>\n",
       "      <td>MANO-D</td>\n",
       "      <td>Unknown</td>\n",
       "      <td>1.0</td>\n",
       "      <td>0.0</td>\n",
       "    </tr>\n",
       "    <tr>\n",
       "      <th>1</th>\n",
       "      <td>1970</td>\n",
       "      <td>0</td>\n",
       "      <td>0</td>\n",
       "      <td>Mexico</td>\n",
       "      <td>North America</td>\n",
       "      <td>Federal</td>\n",
       "      <td>Mexico city</td>\n",
       "      <td>19.371887</td>\n",
       "      <td>-99.086624</td>\n",
       "      <td>Hostage Taking (Kidnapping)</td>\n",
       "      <td>Government (Diplomatic)</td>\n",
       "      <td>Diplomatic Personnel (outside of embassy, cons...</td>\n",
       "      <td>Belgium</td>\n",
       "      <td>23rd of September Communist League</td>\n",
       "      <td>Unknown</td>\n",
       "      <td>0.0</td>\n",
       "      <td>0.0</td>\n",
       "    </tr>\n",
       "    <tr>\n",
       "      <th>2</th>\n",
       "      <td>1970</td>\n",
       "      <td>1</td>\n",
       "      <td>0</td>\n",
       "      <td>Philippines</td>\n",
       "      <td>Southeast Asia</td>\n",
       "      <td>Tarlac</td>\n",
       "      <td>Unknown</td>\n",
       "      <td>15.478598</td>\n",
       "      <td>120.599741</td>\n",
       "      <td>Assassination</td>\n",
       "      <td>Journalists &amp; Media</td>\n",
       "      <td>Radio Journalist/Staff/Facility</td>\n",
       "      <td>United States</td>\n",
       "      <td>Unknown</td>\n",
       "      <td>Unknown</td>\n",
       "      <td>1.0</td>\n",
       "      <td>0.0</td>\n",
       "    </tr>\n",
       "    <tr>\n",
       "      <th>3</th>\n",
       "      <td>1970</td>\n",
       "      <td>1</td>\n",
       "      <td>0</td>\n",
       "      <td>Greece</td>\n",
       "      <td>Western Europe</td>\n",
       "      <td>Attica</td>\n",
       "      <td>Athens</td>\n",
       "      <td>37.997490</td>\n",
       "      <td>23.762728</td>\n",
       "      <td>Bombing/Explosion</td>\n",
       "      <td>Government (Diplomatic)</td>\n",
       "      <td>Embassy/Consulate</td>\n",
       "      <td>United States</td>\n",
       "      <td>Unknown</td>\n",
       "      <td>Explosives</td>\n",
       "      <td>NaN</td>\n",
       "      <td>NaN</td>\n",
       "    </tr>\n",
       "    <tr>\n",
       "      <th>4</th>\n",
       "      <td>1970</td>\n",
       "      <td>1</td>\n",
       "      <td>0</td>\n",
       "      <td>Japan</td>\n",
       "      <td>East Asia</td>\n",
       "      <td>Fukouka</td>\n",
       "      <td>Fukouka</td>\n",
       "      <td>33.580412</td>\n",
       "      <td>130.396361</td>\n",
       "      <td>Facility/Infrastructure Attack</td>\n",
       "      <td>Government (Diplomatic)</td>\n",
       "      <td>Embassy/Consulate</td>\n",
       "      <td>United States</td>\n",
       "      <td>Unknown</td>\n",
       "      <td>Incendiary</td>\n",
       "      <td>NaN</td>\n",
       "      <td>NaN</td>\n",
       "    </tr>\n",
       "  </tbody>\n",
       "</table>\n",
       "</div>"
      ],
      "text/plain": [
       "   Year  Month  Day             Country                       Region    State  \\\n",
       "0  1970      7    2  Dominican Republic  Central America & Caribbean      NaN   \n",
       "1  1970      0    0              Mexico                North America  Federal   \n",
       "2  1970      1    0         Philippines               Southeast Asia   Tarlac   \n",
       "3  1970      1    0              Greece               Western Europe   Attica   \n",
       "4  1970      1    0               Japan                    East Asia  Fukouka   \n",
       "\n",
       "            City   Latitude   Longitude                      AttackType  \\\n",
       "0  Santo Domingo  18.456792  -69.951164                   Assassination   \n",
       "1    Mexico city  19.371887  -99.086624     Hostage Taking (Kidnapping)   \n",
       "2        Unknown  15.478598  120.599741                   Assassination   \n",
       "3         Athens  37.997490   23.762728               Bombing/Explosion   \n",
       "4        Fukouka  33.580412  130.396361  Facility/Infrastructure Attack   \n",
       "\n",
       "                    TargetType  \\\n",
       "0  Private Citizens & Property   \n",
       "1      Government (Diplomatic)   \n",
       "2          Journalists & Media   \n",
       "3      Government (Diplomatic)   \n",
       "4      Government (Diplomatic)   \n",
       "\n",
       "                                       TargetSubtype         Nationality  \\\n",
       "0                                     Named Civilian  Dominican Republic   \n",
       "1  Diplomatic Personnel (outside of embassy, cons...             Belgium   \n",
       "2                    Radio Journalist/Staff/Facility       United States   \n",
       "3                                  Embassy/Consulate       United States   \n",
       "4                                  Embassy/Consulate       United States   \n",
       "\n",
       "                            GroupName  WeaponType  Killed  Wounded  \n",
       "0                              MANO-D     Unknown     1.0      0.0  \n",
       "1  23rd of September Communist League     Unknown     0.0      0.0  \n",
       "2                             Unknown     Unknown     1.0      0.0  \n",
       "3                             Unknown  Explosives     NaN      NaN  \n",
       "4                             Unknown  Incendiary     NaN      NaN  "
      ]
     },
     "execution_count": 9,
     "metadata": {},
     "output_type": "execute_result"
    }
   ],
   "source": [
    "data1=data[['Year','Month','Day','Country','Region','State','City','Latitude','Longitude','AttackType','TargetType',\n",
    "'TargetSubtype','Nationality','GroupName','WeaponType','Killed','Wounded']]\n",
    "data1.head()"
   ]
  },
  {
   "cell_type": "code",
   "execution_count": 10,
   "metadata": {},
   "outputs": [
    {
     "data": {
      "text/plain": [
       "(181691, 17)"
      ]
     },
     "execution_count": 10,
     "metadata": {},
     "output_type": "execute_result"
    }
   ],
   "source": [
    "data1.shape"
   ]
  },
  {
   "cell_type": "code",
   "execution_count": 11,
   "metadata": {},
   "outputs": [
    {
     "name": "stdout",
     "output_type": "stream",
     "text": [
      "<class 'pandas.core.frame.DataFrame'>\n",
      "RangeIndex: 181691 entries, 0 to 181690\n",
      "Data columns (total 17 columns):\n",
      " #   Column         Non-Null Count   Dtype  \n",
      "---  ------         --------------   -----  \n",
      " 0   Year           181691 non-null  int64  \n",
      " 1   Month          181691 non-null  int64  \n",
      " 2   Day            181691 non-null  int64  \n",
      " 3   Country        181691 non-null  object \n",
      " 4   Region         181691 non-null  object \n",
      " 5   State          181270 non-null  object \n",
      " 6   City           181257 non-null  object \n",
      " 7   Latitude       177135 non-null  float64\n",
      " 8   Longitude      177134 non-null  float64\n",
      " 9   AttackType     181691 non-null  object \n",
      " 10  TargetType     181691 non-null  object \n",
      " 11  TargetSubtype  171318 non-null  object \n",
      " 12  Nationality    180132 non-null  object \n",
      " 13  GroupName      181691 non-null  object \n",
      " 14  WeaponType     181691 non-null  object \n",
      " 15  Killed         171378 non-null  float64\n",
      " 16  Wounded        165380 non-null  float64\n",
      "dtypes: float64(4), int64(3), object(10)\n",
      "memory usage: 23.6+ MB\n"
     ]
    }
   ],
   "source": [
    "data1.info()"
   ]
  },
  {
   "cell_type": "code",
   "execution_count": 12,
   "metadata": {},
   "outputs": [
    {
     "data": {
      "text/html": [
       "<div>\n",
       "<style scoped>\n",
       "    .dataframe tbody tr th:only-of-type {\n",
       "        vertical-align: middle;\n",
       "    }\n",
       "\n",
       "    .dataframe tbody tr th {\n",
       "        vertical-align: top;\n",
       "    }\n",
       "\n",
       "    .dataframe thead th {\n",
       "        text-align: right;\n",
       "    }\n",
       "</style>\n",
       "<table border=\"1\" class=\"dataframe\">\n",
       "  <thead>\n",
       "    <tr style=\"text-align: right;\">\n",
       "      <th></th>\n",
       "      <th>Year</th>\n",
       "      <th>Month</th>\n",
       "      <th>Day</th>\n",
       "      <th>Latitude</th>\n",
       "      <th>Longitude</th>\n",
       "      <th>Killed</th>\n",
       "      <th>Wounded</th>\n",
       "    </tr>\n",
       "  </thead>\n",
       "  <tbody>\n",
       "    <tr>\n",
       "      <th>count</th>\n",
       "      <td>181691.000000</td>\n",
       "      <td>181691.000000</td>\n",
       "      <td>181691.000000</td>\n",
       "      <td>177135.000000</td>\n",
       "      <td>1.771340e+05</td>\n",
       "      <td>171378.000000</td>\n",
       "      <td>165380.000000</td>\n",
       "    </tr>\n",
       "    <tr>\n",
       "      <th>mean</th>\n",
       "      <td>2002.638997</td>\n",
       "      <td>6.467277</td>\n",
       "      <td>15.505644</td>\n",
       "      <td>23.498343</td>\n",
       "      <td>-4.586957e+02</td>\n",
       "      <td>2.403272</td>\n",
       "      <td>3.167668</td>\n",
       "    </tr>\n",
       "    <tr>\n",
       "      <th>std</th>\n",
       "      <td>13.259430</td>\n",
       "      <td>3.388303</td>\n",
       "      <td>8.814045</td>\n",
       "      <td>18.569242</td>\n",
       "      <td>2.047790e+05</td>\n",
       "      <td>11.545741</td>\n",
       "      <td>35.949392</td>\n",
       "    </tr>\n",
       "    <tr>\n",
       "      <th>min</th>\n",
       "      <td>1970.000000</td>\n",
       "      <td>0.000000</td>\n",
       "      <td>0.000000</td>\n",
       "      <td>-53.154613</td>\n",
       "      <td>-8.618590e+07</td>\n",
       "      <td>0.000000</td>\n",
       "      <td>0.000000</td>\n",
       "    </tr>\n",
       "    <tr>\n",
       "      <th>25%</th>\n",
       "      <td>1991.000000</td>\n",
       "      <td>4.000000</td>\n",
       "      <td>8.000000</td>\n",
       "      <td>11.510046</td>\n",
       "      <td>4.545640e+00</td>\n",
       "      <td>0.000000</td>\n",
       "      <td>0.000000</td>\n",
       "    </tr>\n",
       "    <tr>\n",
       "      <th>50%</th>\n",
       "      <td>2009.000000</td>\n",
       "      <td>6.000000</td>\n",
       "      <td>15.000000</td>\n",
       "      <td>31.467463</td>\n",
       "      <td>4.324651e+01</td>\n",
       "      <td>0.000000</td>\n",
       "      <td>0.000000</td>\n",
       "    </tr>\n",
       "    <tr>\n",
       "      <th>75%</th>\n",
       "      <td>2014.000000</td>\n",
       "      <td>9.000000</td>\n",
       "      <td>23.000000</td>\n",
       "      <td>34.685087</td>\n",
       "      <td>6.871033e+01</td>\n",
       "      <td>2.000000</td>\n",
       "      <td>2.000000</td>\n",
       "    </tr>\n",
       "    <tr>\n",
       "      <th>max</th>\n",
       "      <td>2017.000000</td>\n",
       "      <td>12.000000</td>\n",
       "      <td>31.000000</td>\n",
       "      <td>74.633553</td>\n",
       "      <td>1.793667e+02</td>\n",
       "      <td>1570.000000</td>\n",
       "      <td>8191.000000</td>\n",
       "    </tr>\n",
       "  </tbody>\n",
       "</table>\n",
       "</div>"
      ],
      "text/plain": [
       "                Year          Month            Day       Latitude  \\\n",
       "count  181691.000000  181691.000000  181691.000000  177135.000000   \n",
       "mean     2002.638997       6.467277      15.505644      23.498343   \n",
       "std        13.259430       3.388303       8.814045      18.569242   \n",
       "min      1970.000000       0.000000       0.000000     -53.154613   \n",
       "25%      1991.000000       4.000000       8.000000      11.510046   \n",
       "50%      2009.000000       6.000000      15.000000      31.467463   \n",
       "75%      2014.000000       9.000000      23.000000      34.685087   \n",
       "max      2017.000000      12.000000      31.000000      74.633553   \n",
       "\n",
       "          Longitude         Killed        Wounded  \n",
       "count  1.771340e+05  171378.000000  165380.000000  \n",
       "mean  -4.586957e+02       2.403272       3.167668  \n",
       "std    2.047790e+05      11.545741      35.949392  \n",
       "min   -8.618590e+07       0.000000       0.000000  \n",
       "25%    4.545640e+00       0.000000       0.000000  \n",
       "50%    4.324651e+01       0.000000       0.000000  \n",
       "75%    6.871033e+01       2.000000       2.000000  \n",
       "max    1.793667e+02    1570.000000    8191.000000  "
      ]
     },
     "execution_count": 12,
     "metadata": {},
     "output_type": "execute_result"
    }
   ],
   "source": [
    "data1.describe()"
   ]
  },
  {
   "cell_type": "code",
   "execution_count": 13,
   "metadata": {},
   "outputs": [
    {
     "data": {
      "text/html": [
       "<div>\n",
       "<style scoped>\n",
       "    .dataframe tbody tr th:only-of-type {\n",
       "        vertical-align: middle;\n",
       "    }\n",
       "\n",
       "    .dataframe tbody tr th {\n",
       "        vertical-align: top;\n",
       "    }\n",
       "\n",
       "    .dataframe thead th {\n",
       "        text-align: right;\n",
       "    }\n",
       "</style>\n",
       "<table border=\"1\" class=\"dataframe\">\n",
       "  <thead>\n",
       "    <tr style=\"text-align: right;\">\n",
       "      <th></th>\n",
       "      <th>Year</th>\n",
       "      <th>Month</th>\n",
       "      <th>Day</th>\n",
       "      <th>Latitude</th>\n",
       "      <th>Longitude</th>\n",
       "      <th>Killed</th>\n",
       "      <th>Wounded</th>\n",
       "    </tr>\n",
       "  </thead>\n",
       "  <tbody>\n",
       "    <tr>\n",
       "      <th>Year</th>\n",
       "      <td>1.000000</td>\n",
       "      <td>0.000139</td>\n",
       "      <td>0.018254</td>\n",
       "      <td>0.166933</td>\n",
       "      <td>0.003917</td>\n",
       "      <td>0.015341</td>\n",
       "      <td>0.015273</td>\n",
       "    </tr>\n",
       "    <tr>\n",
       "      <th>Month</th>\n",
       "      <td>0.000139</td>\n",
       "      <td>1.000000</td>\n",
       "      <td>0.005497</td>\n",
       "      <td>-0.015978</td>\n",
       "      <td>-0.003880</td>\n",
       "      <td>0.003463</td>\n",
       "      <td>0.002938</td>\n",
       "    </tr>\n",
       "    <tr>\n",
       "      <th>Day</th>\n",
       "      <td>0.018254</td>\n",
       "      <td>0.005497</td>\n",
       "      <td>1.000000</td>\n",
       "      <td>0.003423</td>\n",
       "      <td>-0.002285</td>\n",
       "      <td>-0.003693</td>\n",
       "      <td>-0.001268</td>\n",
       "    </tr>\n",
       "    <tr>\n",
       "      <th>Latitude</th>\n",
       "      <td>0.166933</td>\n",
       "      <td>-0.015978</td>\n",
       "      <td>0.003423</td>\n",
       "      <td>1.000000</td>\n",
       "      <td>0.001463</td>\n",
       "      <td>-0.018124</td>\n",
       "      <td>0.015988</td>\n",
       "    </tr>\n",
       "    <tr>\n",
       "      <th>Longitude</th>\n",
       "      <td>0.003917</td>\n",
       "      <td>-0.003880</td>\n",
       "      <td>-0.002285</td>\n",
       "      <td>0.001463</td>\n",
       "      <td>1.000000</td>\n",
       "      <td>-0.000562</td>\n",
       "      <td>0.000223</td>\n",
       "    </tr>\n",
       "    <tr>\n",
       "      <th>Killed</th>\n",
       "      <td>0.015341</td>\n",
       "      <td>0.003463</td>\n",
       "      <td>-0.003693</td>\n",
       "      <td>-0.018124</td>\n",
       "      <td>-0.000562</td>\n",
       "      <td>1.000000</td>\n",
       "      <td>0.534375</td>\n",
       "    </tr>\n",
       "    <tr>\n",
       "      <th>Wounded</th>\n",
       "      <td>0.015273</td>\n",
       "      <td>0.002938</td>\n",
       "      <td>-0.001268</td>\n",
       "      <td>0.015988</td>\n",
       "      <td>0.000223</td>\n",
       "      <td>0.534375</td>\n",
       "      <td>1.000000</td>\n",
       "    </tr>\n",
       "  </tbody>\n",
       "</table>\n",
       "</div>"
      ],
      "text/plain": [
       "               Year     Month       Day  Latitude  Longitude    Killed  \\\n",
       "Year       1.000000  0.000139  0.018254  0.166933   0.003917  0.015341   \n",
       "Month      0.000139  1.000000  0.005497 -0.015978  -0.003880  0.003463   \n",
       "Day        0.018254  0.005497  1.000000  0.003423  -0.002285 -0.003693   \n",
       "Latitude   0.166933 -0.015978  0.003423  1.000000   0.001463 -0.018124   \n",
       "Longitude  0.003917 -0.003880 -0.002285  0.001463   1.000000 -0.000562   \n",
       "Killed     0.015341  0.003463 -0.003693 -0.018124  -0.000562  1.000000   \n",
       "Wounded    0.015273  0.002938 -0.001268  0.015988   0.000223  0.534375   \n",
       "\n",
       "            Wounded  \n",
       "Year       0.015273  \n",
       "Month      0.002938  \n",
       "Day       -0.001268  \n",
       "Latitude   0.015988  \n",
       "Longitude  0.000223  \n",
       "Killed     0.534375  \n",
       "Wounded    1.000000  "
      ]
     },
     "execution_count": 13,
     "metadata": {},
     "output_type": "execute_result"
    }
   ],
   "source": [
    "data1.corr()"
   ]
  },
  {
   "cell_type": "code",
   "execution_count": 14,
   "metadata": {},
   "outputs": [
    {
     "data": {
      "image/png": "[encoded data removed]",
      "text/plain": [
       "<Figure size 432x288 with 2 Axes>"
      ]
     },
     "metadata": {
      "needs_background": "light"
     },
     "output_type": "display_data"
    }
   ],
   "source": [
    "sns.heatmap(data1.corr())\n",
    "plt.show()"
   ]
  },
  {
   "cell_type": "markdown",
   "metadata": {},
   "source": [
    "### Now we will check the most affected regions from terrorism:"
   ]
  },
  {
   "cell_type": "code",
   "execution_count": 15,
   "metadata": {},
   "outputs": [
    {
     "name": "stdout",
     "output_type": "stream",
     "text": [
      "Region-wise data of terror activities:\n"
     ]
    },
    {
     "data": {
      "text/plain": [
       "Middle East & North Africa     50474\n",
       "South Asia                     44974\n",
       "South America                  18978\n",
       "Sub-Saharan Africa             17550\n",
       "Western Europe                 16639\n",
       "Southeast Asia                 12485\n",
       "Central America & Caribbean    10344\n",
       "Eastern Europe                  5144\n",
       "North America                   3456\n",
       "East Asia                        802\n",
       "Central Asia                     563\n",
       "Australasia & Oceania            282\n",
       "Name: Region, dtype: int64"
      ]
     },
     "execution_count": 15,
     "metadata": {},
     "output_type": "execute_result"
    }
   ],
   "source": [
    "dr=data1['Region'].value_counts()\n",
    "print('Region-wise data of terror activities:')\n",
    "dr"
   ]
  },
  {
   "cell_type": "code",
   "execution_count": 16,
   "metadata": {},
   "outputs": [
    {
     "data": {
      "image/png": "[encoded data removed]",
      "text/plain": [
       "<Figure size 1080x360 with 1 Axes>"
      ]
     },
     "metadata": {
      "needs_background": "light"
     },
     "output_type": "display_data"
    }
   ],
   "source": [
    "dr.plot(kind='bar',figsize=(15,5),color='r')\n",
    "plt.title('Region-wise data of terror activities',size=20)\n",
    "plt.xlabel('Region')\n",
    "plt.show()"
   ]
  },
  {
   "cell_type": "markdown",
   "metadata": {},
   "source": [
    "from the above graph, we can see that **Middle East and North Africa** is the most affected region."
   ]
  },
  {
   "cell_type": "markdown",
   "metadata": {},
   "source": [
    "### Now we will check the top 10 most affected countries from terrorism:"
   ]
  },
  {
   "cell_type": "code",
   "execution_count": 17,
   "metadata": {},
   "outputs": [
    {
     "name": "stdout",
     "output_type": "stream",
     "text": [
      "These are the top 10 most affected countries from terrorism:\n"
     ]
    },
    {
     "data": {
      "text/plain": [
       "Iraq              24636\n",
       "Pakistan          14368\n",
       "Afghanistan       12731\n",
       "India             11960\n",
       "Colombia           8306\n",
       "Philippines        6908\n",
       "Peru               6096\n",
       "El Salvador        5320\n",
       "United Kingdom     5235\n",
       "Turkey             4292\n",
       "Name: Country, dtype: int64"
      ]
     },
     "execution_count": 17,
     "metadata": {},
     "output_type": "execute_result"
    }
   ],
   "source": [
    "dc=data1['Country'].value_counts()\n",
    "print('These are the top 10 most affected countries from terrorism:')\n",
    "dc10=dc.head(10)\n",
    "dc10"
   ]
  },
  {
   "cell_type": "code",
   "execution_count": 18,
   "metadata": {},
   "outputs": [
    {
     "data": {
      "image/png": "[encoded data removed]",
      "text/plain": [
       "<Figure size 720x360 with 1 Axes>"
      ]
     },
     "metadata": {
      "needs_background": "light"
     },
     "output_type": "display_data"
    }
   ],
   "source": [
    "dc10.plot(kind='bar',figsize=(10,5))\n",
    "plt.title('10 Most affected countries from Terrorism',size=20)\n",
    "plt.xlabel('Country')\n",
    "plt.show()"
   ]
  },
  {
   "cell_type": "markdown",
   "metadata": {},
   "source": [
    "From the above graph we can see that **Iraq** is the most affected country from terrorism."
   ]
  },
  {
   "cell_type": "markdown",
   "metadata": {},
   "source": [
    "### Now we will check most affected cities from terrorism in the world:"
   ]
  },
  {
   "cell_type": "code",
   "execution_count": 19,
   "metadata": {},
   "outputs": [
    {
     "name": "stdout",
     "output_type": "stream",
     "text": [
      "These are the top 10 most affected cities from terrorism in the world:\n"
     ]
    },
    {
     "data": {
      "text/plain": [
       "Unknown         9775\n",
       "Baghdad         7589\n",
       "Karachi         2652\n",
       "Lima            2359\n",
       "Mosul           2265\n",
       "Belfast         2171\n",
       "Santiago        1621\n",
       "Mogadishu       1581\n",
       "San Salvador    1558\n",
       "Istanbul        1048\n",
       "Name: City, dtype: int64"
      ]
     },
     "execution_count": 19,
     "metadata": {},
     "output_type": "execute_result"
    }
   ],
   "source": [
    "dct=data1['City'].value_counts()\n",
    "print('These are the top 10 most affected cities from terrorism in the world:')\n",
    "dct10=dct.head(10)\n",
    "dct10"
   ]
  },
  {
   "cell_type": "code",
   "execution_count": 20,
   "metadata": {},
   "outputs": [
    {
     "data": {
      "image/png": "[encoded data removed]",
      "text/plain": [
       "<Figure size 720x360 with 1 Axes>"
      ]
     },
     "metadata": {
      "needs_background": "light"
     },
     "output_type": "display_data"
    }
   ],
   "source": [
    "dct10.plot(kind='bar',figsize=(10,5),color='green')\n",
    "plt.title('10 most affected cities from terrorism in the world:',size=20)\n",
    "plt.xlabel('City')\n",
    "plt.show()"
   ]
  },
  {
   "cell_type": "markdown",
   "metadata": {},
   "source": [
    "Baghdad is the most affected city from terrorism in the world"
   ]
  },
  {
   "cell_type": "code",
   "execution_count": 21,
   "metadata": {},
   "outputs": [
    {
     "data": {
      "text/plain": [
       "2014    16903\n",
       "2015    14965\n",
       "2016    13587\n",
       "2013    12036\n",
       "2017    10900\n",
       "2012     8522\n",
       "2011     5076\n",
       "1992     5071\n",
       "2010     4826\n",
       "2008     4805\n",
       "Name: Year, dtype: int64"
      ]
     },
     "execution_count": 21,
     "metadata": {},
     "output_type": "execute_result"
    }
   ],
   "source": [
    "data['Year'].value_counts().head(10)"
   ]
  },
  {
   "cell_type": "code",
   "execution_count": 22,
   "metadata": {},
   "outputs": [
    {
     "data": {
      "image/png": "[encoded data removed]",
      "text/plain": [
       "<Figure size 1440x360 with 1 Axes>"
      ]
     },
     "metadata": {
      "needs_background": "light"
     },
     "output_type": "display_data"
    }
   ],
   "source": [
    "data['Year'].value_counts().plot(kind='bar',figsize=(20,5))\n",
    "plt.title('Year wise data of Terror Attacks',size=25)\n",
    "plt.show()"
   ]
  },
  {
   "cell_type": "markdown",
   "metadata": {},
   "source": [
    "we can see that most terror attacks happened in the year 2014"
   ]
  },
  {
   "cell_type": "markdown",
   "metadata": {},
   "source": [
    "### Analysis of terror attacks by  terrorist groups:"
   ]
  },
  {
   "cell_type": "code",
   "execution_count": 23,
   "metadata": {},
   "outputs": [
    {
     "data": {
      "text/plain": [
       "Unknown                                             82782\n",
       "Taliban                                              7478\n",
       "Islamic State of Iraq and the Levant (ISIL)          5613\n",
       "Shining Path (SL)                                    4555\n",
       "Farabundo Marti National Liberation Front (FMLN)     3351\n",
       "Al-Shabaab                                           3288\n",
       "New People's Army (NPA)                              2772\n",
       "Irish Republican Army (IRA)                          2671\n",
       "Revolutionary Armed Forces of Colombia (FARC)        2487\n",
       "Boko Haram                                           2418\n",
       "Name: GroupName, dtype: int64"
      ]
     },
     "execution_count": 23,
     "metadata": {},
     "output_type": "execute_result"
    }
   ],
   "source": [
    "data1['GroupName'].value_counts()[:10]"
   ]
  },
  {
   "cell_type": "code",
   "execution_count": 24,
   "metadata": {},
   "outputs": [
    {
     "data": {
      "image/png": "[encoded data removed]",
      "text/plain": [
       "<Figure size 720x360 with 1 Axes>"
      ]
     },
     "metadata": {
      "needs_background": "light"
     },
     "output_type": "display_data"
    }
   ],
   "source": [
    "data1['GroupName'].value_counts()[:10].plot(kind='bar',figsize=(10,5))\n",
    "plt.title('Number of attacks by different terrorist groups',size=15)\n",
    "plt.show()"
   ]
  },
  {
   "cell_type": "markdown",
   "metadata": {},
   "source": [
    "Taliban committed the maximum terror attacks."
   ]
  },
  {
   "cell_type": "code",
   "execution_count": 40,
   "metadata": {},
   "outputs": [
    {
     "name": "stdout",
     "output_type": "stream",
     "text": [
      "terror attack on different targets:\n"
     ]
    },
    {
     "data": {
      "text/plain": [
       "Private Citizens & Property       43511\n",
       "Military                          27984\n",
       "Police                            24506\n",
       "Government (General)              21283\n",
       "Business                          20669\n",
       "Transportation                     6799\n",
       "Utilities                          6023\n",
       "Unknown                            5898\n",
       "Religious Figures/Institutions     4440\n",
       "Educational Institution            4322\n",
       "Government (Diplomatic)            3573\n",
       "Terrorists/Non-State Militia       3039\n",
       "Journalists & Media                2948\n",
       "Violent Political Party            1866\n",
       "Airports & Aircraft                1343\n",
       "Telecommunication                  1009\n",
       "NGO                                 970\n",
       "Tourists                            440\n",
       "Maritime                            351\n",
       "Food or Water Supply                317\n",
       "Abortion Related                    263\n",
       "Other                               137\n",
       "Name: TargetType, dtype: int64"
      ]
     },
     "execution_count": 40,
     "metadata": {},
     "output_type": "execute_result"
    }
   ],
   "source": [
    "dtt=data1['TargetType'].value_counts()\n",
    "print('terror attack on different targets:')\n",
    "dtt"
   ]
  },
  {
   "cell_type": "code",
   "execution_count": 42,
   "metadata": {},
   "outputs": [
    {
     "data": {
      "image/png": "[encoded data removed]",
      "text/plain": [
       "<Figure size 1080x360 with 1 Axes>"
      ]
     },
     "metadata": {
      "needs_background": "light"
     },
     "output_type": "display_data"
    }
   ],
   "source": [
    "dtt.plot(kind='bar',figsize=(15,5),color='r')\n",
    "plt.title('Target-wise data of terror activities',size=20)\n",
    "plt.xlabel('Target')\n",
    "plt.show()"
   ]
  },
  {
   "cell_type": "markdown",
   "metadata": {},
   "source": [
    "we can see that in most terror attacks terrorists target Private Citizens and Property."
   ]
  },
  {
   "cell_type": "code",
   "execution_count": 27,
   "metadata": {},
   "outputs": [
    {
     "name": "stdout",
     "output_type": "stream",
     "text": [
      "a maximum number of people were killed in these terror attacks:\n"
     ]
    },
    {
     "data": {
      "text/html": [
       "<div>\n",
       "<style scoped>\n",
       "    .dataframe tbody tr th:only-of-type {\n",
       "        vertical-align: middle;\n",
       "    }\n",
       "\n",
       "    .dataframe tbody tr th {\n",
       "        vertical-align: top;\n",
       "    }\n",
       "\n",
       "    .dataframe thead th {\n",
       "        text-align: right;\n",
       "    }\n",
       "</style>\n",
       "<table border=\"1\" class=\"dataframe\">\n",
       "  <thead>\n",
       "    <tr style=\"text-align: right;\">\n",
       "      <th></th>\n",
       "      <th>Year</th>\n",
       "      <th>Country</th>\n",
       "      <th>State</th>\n",
       "      <th>Region</th>\n",
       "      <th>City</th>\n",
       "      <th>GroupName</th>\n",
       "      <th>Nationality</th>\n",
       "      <th>Killed</th>\n",
       "      <th>Wounded</th>\n",
       "    </tr>\n",
       "  </thead>\n",
       "  <tbody>\n",
       "    <tr>\n",
       "      <th>133518</th>\n",
       "      <td>2014</td>\n",
       "      <td>Iraq</td>\n",
       "      <td>Saladin</td>\n",
       "      <td>Middle East &amp; North Africa</td>\n",
       "      <td>Tikrit</td>\n",
       "      <td>Islamic State of Iraq and the Levant (ISIL)</td>\n",
       "      <td>Iraq</td>\n",
       "      <td>1570.0</td>\n",
       "      <td>NaN</td>\n",
       "    </tr>\n",
       "    <tr>\n",
       "      <th>73126</th>\n",
       "      <td>2001</td>\n",
       "      <td>United States</td>\n",
       "      <td>New York</td>\n",
       "      <td>North America</td>\n",
       "      <td>New York City</td>\n",
       "      <td>Al-Qaida</td>\n",
       "      <td>United States</td>\n",
       "      <td>1384.0</td>\n",
       "      <td>8190.0</td>\n",
       "    </tr>\n",
       "    <tr>\n",
       "      <th>73127</th>\n",
       "      <td>2001</td>\n",
       "      <td>United States</td>\n",
       "      <td>New York</td>\n",
       "      <td>North America</td>\n",
       "      <td>New York City</td>\n",
       "      <td>Al-Qaida</td>\n",
       "      <td>United States</td>\n",
       "      <td>1383.0</td>\n",
       "      <td>8191.0</td>\n",
       "    </tr>\n",
       "    <tr>\n",
       "      <th>55934</th>\n",
       "      <td>1994</td>\n",
       "      <td>Rwanda</td>\n",
       "      <td>Kigali</td>\n",
       "      <td>Sub-Saharan Africa</td>\n",
       "      <td>Gikoro</td>\n",
       "      <td>Hutu extremists</td>\n",
       "      <td>Rwanda</td>\n",
       "      <td>1180.0</td>\n",
       "      <td>0.0</td>\n",
       "    </tr>\n",
       "    <tr>\n",
       "      <th>136283</th>\n",
       "      <td>2014</td>\n",
       "      <td>Iraq</td>\n",
       "      <td>Nineveh</td>\n",
       "      <td>Middle East &amp; North Africa</td>\n",
       "      <td>Sinjar</td>\n",
       "      <td>Islamic State of Iraq and the Levant (ISIL)</td>\n",
       "      <td>Iraq</td>\n",
       "      <td>953.0</td>\n",
       "      <td>NaN</td>\n",
       "    </tr>\n",
       "    <tr>\n",
       "      <th>133225</th>\n",
       "      <td>2014</td>\n",
       "      <td>Iraq</td>\n",
       "      <td>Nineveh</td>\n",
       "      <td>Middle East &amp; North Africa</td>\n",
       "      <td>Badush</td>\n",
       "      <td>Islamic State of Iraq and the Levant (ISIL)</td>\n",
       "      <td>Iraq</td>\n",
       "      <td>670.0</td>\n",
       "      <td>0.0</td>\n",
       "    </tr>\n",
       "    <tr>\n",
       "      <th>179671</th>\n",
       "      <td>2017</td>\n",
       "      <td>Somalia</td>\n",
       "      <td>Banaadir</td>\n",
       "      <td>Sub-Saharan Africa</td>\n",
       "      <td>Mogadishu</td>\n",
       "      <td>Al-Shabaab</td>\n",
       "      <td>Somalia</td>\n",
       "      <td>588.0</td>\n",
       "      <td>316.0</td>\n",
       "    </tr>\n",
       "    <tr>\n",
       "      <th>76347</th>\n",
       "      <td>2004</td>\n",
       "      <td>Nepal</td>\n",
       "      <td>Central</td>\n",
       "      <td>South Asia</td>\n",
       "      <td>Dhading district</td>\n",
       "      <td>Communist Party of Nepal- Maoist (CPN-M)</td>\n",
       "      <td>Nepal</td>\n",
       "      <td>518.0</td>\n",
       "      <td>216.0</td>\n",
       "    </tr>\n",
       "    <tr>\n",
       "      <th>136746</th>\n",
       "      <td>2014</td>\n",
       "      <td>Syria</td>\n",
       "      <td>Raqqah</td>\n",
       "      <td>Middle East &amp; North Africa</td>\n",
       "      <td>Unknown</td>\n",
       "      <td>Islamic State of Iraq and the Levant (ISIL)</td>\n",
       "      <td>Syria</td>\n",
       "      <td>517.0</td>\n",
       "      <td>NaN</td>\n",
       "    </tr>\n",
       "    <tr>\n",
       "      <th>170198</th>\n",
       "      <td>2016</td>\n",
       "      <td>Syria</td>\n",
       "      <td>Homs</td>\n",
       "      <td>Middle East &amp; North Africa</td>\n",
       "      <td>Palmyra</td>\n",
       "      <td>Islamic State of Iraq and the Levant (ISIL)</td>\n",
       "      <td>Syria</td>\n",
       "      <td>433.0</td>\n",
       "      <td>NaN</td>\n",
       "    </tr>\n",
       "  </tbody>\n",
       "</table>\n",
       "</div>"
      ],
      "text/plain": [
       "        Year        Country     State                      Region  \\\n",
       "133518  2014           Iraq   Saladin  Middle East & North Africa   \n",
       "73126   2001  United States  New York               North America   \n",
       "73127   2001  United States  New York               North America   \n",
       "55934   1994         Rwanda    Kigali          Sub-Saharan Africa   \n",
       "136283  2014           Iraq   Nineveh  Middle East & North Africa   \n",
       "133225  2014           Iraq   Nineveh  Middle East & North Africa   \n",
       "179671  2017        Somalia  Banaadir          Sub-Saharan Africa   \n",
       "76347   2004          Nepal   Central                  South Asia   \n",
       "136746  2014          Syria    Raqqah  Middle East & North Africa   \n",
       "170198  2016          Syria      Homs  Middle East & North Africa   \n",
       "\n",
       "                    City                                    GroupName  \\\n",
       "133518            Tikrit  Islamic State of Iraq and the Levant (ISIL)   \n",
       "73126      New York City                                     Al-Qaida   \n",
       "73127      New York City                                     Al-Qaida   \n",
       "55934             Gikoro                              Hutu extremists   \n",
       "136283            Sinjar  Islamic State of Iraq and the Levant (ISIL)   \n",
       "133225            Badush  Islamic State of Iraq and the Levant (ISIL)   \n",
       "179671         Mogadishu                                   Al-Shabaab   \n",
       "76347   Dhading district     Communist Party of Nepal- Maoist (CPN-M)   \n",
       "136746           Unknown  Islamic State of Iraq and the Levant (ISIL)   \n",
       "170198           Palmyra  Islamic State of Iraq and the Levant (ISIL)   \n",
       "\n",
       "          Nationality  Killed  Wounded  \n",
       "133518           Iraq  1570.0      NaN  \n",
       "73126   United States  1384.0   8190.0  \n",
       "73127   United States  1383.0   8191.0  \n",
       "55934          Rwanda  1180.0      0.0  \n",
       "136283           Iraq   953.0      NaN  \n",
       "133225           Iraq   670.0      0.0  \n",
       "179671        Somalia   588.0    316.0  \n",
       "76347           Nepal   518.0    216.0  \n",
       "136746          Syria   517.0      NaN  \n",
       "170198          Syria   433.0      NaN  "
      ]
     },
     "execution_count": 27,
     "metadata": {},
     "output_type": "execute_result"
    }
   ],
   "source": [
    "data2=data1.sort_values(['Killed','Wounded'],ascending=False)[['Year','Country',\n",
    "'State','Region','City','GroupName','Nationality','Killed','Wounded']]\n",
    "print('a maximum number of people were killed in these terror attacks:')\n",
    "data2.head(10)"
   ]
  },
  {
   "cell_type": "markdown",
   "metadata": {},
   "source": [
    "### Now we will analyze number of killings in different regions:"
   ]
  },
  {
   "cell_type": "code",
   "execution_count": 28,
   "metadata": {},
   "outputs": [
    {
     "data": {
      "text/html": [
       "<div>\n",
       "<style scoped>\n",
       "    .dataframe tbody tr th:only-of-type {\n",
       "        vertical-align: middle;\n",
       "    }\n",
       "\n",
       "    .dataframe tbody tr th {\n",
       "        vertical-align: top;\n",
       "    }\n",
       "\n",
       "    .dataframe thead th {\n",
       "        text-align: right;\n",
       "    }\n",
       "</style>\n",
       "<table border=\"1\" class=\"dataframe\">\n",
       "  <thead>\n",
       "    <tr style=\"text-align: right;\">\n",
       "      <th></th>\n",
       "      <th>Killed</th>\n",
       "      <th>Wounded</th>\n",
       "    </tr>\n",
       "    <tr>\n",
       "      <th>Region</th>\n",
       "      <th></th>\n",
       "      <th></th>\n",
       "    </tr>\n",
       "  </thead>\n",
       "  <tbody>\n",
       "    <tr>\n",
       "      <th>Middle East &amp; North Africa</th>\n",
       "      <td>137642.0</td>\n",
       "      <td>214308.0</td>\n",
       "    </tr>\n",
       "    <tr>\n",
       "      <th>South Asia</th>\n",
       "      <td>101319.0</td>\n",
       "      <td>141360.0</td>\n",
       "    </tr>\n",
       "    <tr>\n",
       "      <th>Sub-Saharan Africa</th>\n",
       "      <td>78386.0</td>\n",
       "      <td>52857.0</td>\n",
       "    </tr>\n",
       "    <tr>\n",
       "      <th>South America</th>\n",
       "      <td>28849.0</td>\n",
       "      <td>16704.0</td>\n",
       "    </tr>\n",
       "    <tr>\n",
       "      <th>Central America &amp; Caribbean</th>\n",
       "      <td>28708.0</td>\n",
       "      <td>8991.0</td>\n",
       "    </tr>\n",
       "    <tr>\n",
       "      <th>Southeast Asia</th>\n",
       "      <td>15637.0</td>\n",
       "      <td>26259.0</td>\n",
       "    </tr>\n",
       "    <tr>\n",
       "      <th>Eastern Europe</th>\n",
       "      <td>7415.0</td>\n",
       "      <td>12045.0</td>\n",
       "    </tr>\n",
       "    <tr>\n",
       "      <th>Western Europe</th>\n",
       "      <td>6694.0</td>\n",
       "      <td>18332.0</td>\n",
       "    </tr>\n",
       "    <tr>\n",
       "      <th>North America</th>\n",
       "      <td>4916.0</td>\n",
       "      <td>21531.0</td>\n",
       "    </tr>\n",
       "    <tr>\n",
       "      <th>East Asia</th>\n",
       "      <td>1152.0</td>\n",
       "      <td>9213.0</td>\n",
       "    </tr>\n",
       "    <tr>\n",
       "      <th>Central Asia</th>\n",
       "      <td>1000.0</td>\n",
       "      <td>2009.0</td>\n",
       "    </tr>\n",
       "    <tr>\n",
       "      <th>Australasia &amp; Oceania</th>\n",
       "      <td>150.0</td>\n",
       "      <td>260.0</td>\n",
       "    </tr>\n",
       "  </tbody>\n",
       "</table>\n",
       "</div>"
      ],
      "text/plain": [
       "                               Killed   Wounded\n",
       "Region                                         \n",
       "Middle East & North Africa   137642.0  214308.0\n",
       "South Asia                   101319.0  141360.0\n",
       "Sub-Saharan Africa            78386.0   52857.0\n",
       "South America                 28849.0   16704.0\n",
       "Central America & Caribbean   28708.0    8991.0\n",
       "Southeast Asia                15637.0   26259.0\n",
       "Eastern Europe                 7415.0   12045.0\n",
       "Western Europe                 6694.0   18332.0\n",
       "North America                  4916.0   21531.0\n",
       "East Asia                      1152.0    9213.0\n",
       "Central Asia                   1000.0    2009.0\n",
       "Australasia & Oceania           150.0     260.0"
      ]
     },
     "execution_count": 28,
     "metadata": {},
     "output_type": "execute_result"
    }
   ],
   "source": [
    "data3=data1.groupby('Region').sum().sort_values(['Killed'],ascending=False)[['Killed','Wounded']]\n",
    "data3"
   ]
  },
  {
   "cell_type": "markdown",
   "metadata": {},
   "source": [
    "The maximum number of people were killed in the Middle East and North Africa region"
   ]
  },
  {
   "cell_type": "code",
   "execution_count": 29,
   "metadata": {},
   "outputs": [
    {
     "data": {
      "image/png": "[encoded data removed]",
      "text/plain": [
       "<Figure size 1080x360 with 1 Axes>"
      ]
     },
     "metadata": {
      "needs_background": "light"
     },
     "output_type": "display_data"
    }
   ],
   "source": [
    "data3.plot(kind='bar',figsize=(15,5))\n",
    "plt.title('Graph of number of killed and wounded people in diffrerent regions',size=20)\n",
    "plt.show()"
   ]
  },
  {
   "cell_type": "markdown",
   "metadata": {},
   "source": [
    "### Now we will analyze number of killings in different countries:"
   ]
  },
  {
   "cell_type": "code",
   "execution_count": 30,
   "metadata": {},
   "outputs": [
    {
     "data": {
      "text/html": [
       "<div>\n",
       "<style scoped>\n",
       "    .dataframe tbody tr th:only-of-type {\n",
       "        vertical-align: middle;\n",
       "    }\n",
       "\n",
       "    .dataframe tbody tr th {\n",
       "        vertical-align: top;\n",
       "    }\n",
       "\n",
       "    .dataframe thead th {\n",
       "        text-align: right;\n",
       "    }\n",
       "</style>\n",
       "<table border=\"1\" class=\"dataframe\">\n",
       "  <thead>\n",
       "    <tr style=\"text-align: right;\">\n",
       "      <th></th>\n",
       "      <th>Killed</th>\n",
       "      <th>Wounded</th>\n",
       "    </tr>\n",
       "    <tr>\n",
       "      <th>Country</th>\n",
       "      <th></th>\n",
       "      <th></th>\n",
       "    </tr>\n",
       "  </thead>\n",
       "  <tbody>\n",
       "    <tr>\n",
       "      <th>Iraq</th>\n",
       "      <td>78589.0</td>\n",
       "      <td>134690.0</td>\n",
       "    </tr>\n",
       "    <tr>\n",
       "      <th>Afghanistan</th>\n",
       "      <td>39384.0</td>\n",
       "      <td>44277.0</td>\n",
       "    </tr>\n",
       "    <tr>\n",
       "      <th>Pakistan</th>\n",
       "      <td>23822.0</td>\n",
       "      <td>42038.0</td>\n",
       "    </tr>\n",
       "    <tr>\n",
       "      <th>Nigeria</th>\n",
       "      <td>22682.0</td>\n",
       "      <td>10239.0</td>\n",
       "    </tr>\n",
       "    <tr>\n",
       "      <th>India</th>\n",
       "      <td>19341.0</td>\n",
       "      <td>28980.0</td>\n",
       "    </tr>\n",
       "    <tr>\n",
       "      <th>Sri Lanka</th>\n",
       "      <td>15530.0</td>\n",
       "      <td>15561.0</td>\n",
       "    </tr>\n",
       "    <tr>\n",
       "      <th>Syria</th>\n",
       "      <td>15229.0</td>\n",
       "      <td>14109.0</td>\n",
       "    </tr>\n",
       "    <tr>\n",
       "      <th>Colombia</th>\n",
       "      <td>14698.0</td>\n",
       "      <td>10328.0</td>\n",
       "    </tr>\n",
       "    <tr>\n",
       "      <th>Peru</th>\n",
       "      <td>12771.0</td>\n",
       "      <td>4078.0</td>\n",
       "    </tr>\n",
       "    <tr>\n",
       "      <th>El Salvador</th>\n",
       "      <td>12053.0</td>\n",
       "      <td>5062.0</td>\n",
       "    </tr>\n",
       "  </tbody>\n",
       "</table>\n",
       "</div>"
      ],
      "text/plain": [
       "              Killed   Wounded\n",
       "Country                       \n",
       "Iraq         78589.0  134690.0\n",
       "Afghanistan  39384.0   44277.0\n",
       "Pakistan     23822.0   42038.0\n",
       "Nigeria      22682.0   10239.0\n",
       "India        19341.0   28980.0\n",
       "Sri Lanka    15530.0   15561.0\n",
       "Syria        15229.0   14109.0\n",
       "Colombia     14698.0   10328.0\n",
       "Peru         12771.0    4078.0\n",
       "El Salvador  12053.0    5062.0"
      ]
     },
     "execution_count": 30,
     "metadata": {},
     "output_type": "execute_result"
    }
   ],
   "source": [
    "data4=data1.groupby('Country').sum().sort_values(['Killed'],ascending=False)[['Killed','Wounded']]\n",
    "data4.head(10)"
   ]
  },
  {
   "cell_type": "markdown",
   "metadata": {},
   "source": [
    "Iraq is on top in the maximum number of killings in terror attacks"
   ]
  },
  {
   "cell_type": "code",
   "execution_count": 31,
   "metadata": {},
   "outputs": [
    {
     "data": {
      "image/png": "[encoded data removed]",
      "text/plain": [
       "<Figure size 720x432 with 1 Axes>"
      ]
     },
     "metadata": {
      "needs_background": "light"
     },
     "output_type": "display_data"
    }
   ],
   "source": [
    "plt.figure(figsize=(10,6))\n",
    "sns.barplot(x='Killed',y=data4[0:20].index,data=data4[0:20])\n",
    "plt.show()"
   ]
  },
  {
   "cell_type": "markdown",
   "metadata": {},
   "source": [
    "### Analysis of killings by different terrorist groups:"
   ]
  },
  {
   "cell_type": "code",
   "execution_count": 32,
   "metadata": {},
   "outputs": [
    {
     "data": {
      "text/html": [
       "<div>\n",
       "<style scoped>\n",
       "    .dataframe tbody tr th:only-of-type {\n",
       "        vertical-align: middle;\n",
       "    }\n",
       "\n",
       "    .dataframe tbody tr th {\n",
       "        vertical-align: top;\n",
       "    }\n",
       "\n",
       "    .dataframe thead th {\n",
       "        text-align: right;\n",
       "    }\n",
       "</style>\n",
       "<table border=\"1\" class=\"dataframe\">\n",
       "  <thead>\n",
       "    <tr style=\"text-align: right;\">\n",
       "      <th></th>\n",
       "      <th>Killed</th>\n",
       "      <th>Wounded</th>\n",
       "    </tr>\n",
       "    <tr>\n",
       "      <th>GroupName</th>\n",
       "      <th></th>\n",
       "      <th></th>\n",
       "    </tr>\n",
       "  </thead>\n",
       "  <tbody>\n",
       "    <tr>\n",
       "      <th>Unknown</th>\n",
       "      <td>112367.0</td>\n",
       "      <td>210339.0</td>\n",
       "    </tr>\n",
       "    <tr>\n",
       "      <th>Islamic State of Iraq and the Levant (ISIL)</th>\n",
       "      <td>38923.0</td>\n",
       "      <td>30672.0</td>\n",
       "    </tr>\n",
       "    <tr>\n",
       "      <th>Taliban</th>\n",
       "      <td>29410.0</td>\n",
       "      <td>27932.0</td>\n",
       "    </tr>\n",
       "    <tr>\n",
       "      <th>Boko Haram</th>\n",
       "      <td>20328.0</td>\n",
       "      <td>9473.0</td>\n",
       "    </tr>\n",
       "    <tr>\n",
       "      <th>Shining Path (SL)</th>\n",
       "      <td>11601.0</td>\n",
       "      <td>3031.0</td>\n",
       "    </tr>\n",
       "    <tr>\n",
       "      <th>Liberation Tigers of Tamil Eelam (LTTE)</th>\n",
       "      <td>10989.0</td>\n",
       "      <td>11031.0</td>\n",
       "    </tr>\n",
       "    <tr>\n",
       "      <th>Al-Shabaab</th>\n",
       "      <td>9330.0</td>\n",
       "      <td>7624.0</td>\n",
       "    </tr>\n",
       "    <tr>\n",
       "      <th>Farabundo Marti National Liberation Front (FMLN)</th>\n",
       "      <td>8065.0</td>\n",
       "      <td>4065.0</td>\n",
       "    </tr>\n",
       "    <tr>\n",
       "      <th>Nicaraguan Democratic Force (FDN)</th>\n",
       "      <td>6662.0</td>\n",
       "      <td>734.0</td>\n",
       "    </tr>\n",
       "    <tr>\n",
       "      <th>Tehrik-i-Taliban Pakistan (TTP)</th>\n",
       "      <td>6042.0</td>\n",
       "      <td>9532.0</td>\n",
       "    </tr>\n",
       "  </tbody>\n",
       "</table>\n",
       "</div>"
      ],
      "text/plain": [
       "                                                    Killed   Wounded\n",
       "GroupName                                                           \n",
       "Unknown                                           112367.0  210339.0\n",
       "Islamic State of Iraq and the Levant (ISIL)        38923.0   30672.0\n",
       "Taliban                                            29410.0   27932.0\n",
       "Boko Haram                                         20328.0    9473.0\n",
       "Shining Path (SL)                                  11601.0    3031.0\n",
       "Liberation Tigers of Tamil Eelam (LTTE)            10989.0   11031.0\n",
       "Al-Shabaab                                          9330.0    7624.0\n",
       "Farabundo Marti National Liberation Front (FMLN)    8065.0    4065.0\n",
       "Nicaraguan Democratic Force (FDN)                   6662.0     734.0\n",
       "Tehrik-i-Taliban Pakistan (TTP)                     6042.0    9532.0"
      ]
     },
     "execution_count": 32,
     "metadata": {},
     "output_type": "execute_result"
    }
   ],
   "source": [
    "data5=data1.groupby('GroupName').sum().sort_values(['Killed'],ascending=False)[['Killed','Wounded']]\n",
    "data5.head(10)"
   ]
  },
  {
   "cell_type": "markdown",
   "metadata": {},
   "source": [
    "Islamic State of Iraq and the Levant (ISIL) group committed the maximum killings."
   ]
  },
  {
   "cell_type": "code",
   "execution_count": 33,
   "metadata": {},
   "outputs": [
    {
     "data": {
      "image/png": "[encoded data removed]",
      "text/plain": [
       "<Figure size 720x432 with 1 Axes>"
      ]
     },
     "metadata": {
      "needs_background": "light"
     },
     "output_type": "display_data"
    }
   ],
   "source": [
    "plt.figure(figsize=(10,6))\n",
    "sns.barplot(x='Killed',y=data5[0:20].index,data=data5[0:20])\n",
    "plt.show()"
   ]
  },
  {
   "cell_type": "markdown",
   "metadata": {},
   "source": [
    "### Analysis of killings based on weapon type:"
   ]
  },
  {
   "cell_type": "code",
   "execution_count": 34,
   "metadata": {},
   "outputs": [
    {
     "data": {
      "text/html": [
       "<div>\n",
       "<style scoped>\n",
       "    .dataframe tbody tr th:only-of-type {\n",
       "        vertical-align: middle;\n",
       "    }\n",
       "\n",
       "    .dataframe tbody tr th {\n",
       "        vertical-align: top;\n",
       "    }\n",
       "\n",
       "    .dataframe thead th {\n",
       "        text-align: right;\n",
       "    }\n",
       "</style>\n",
       "<table border=\"1\" class=\"dataframe\">\n",
       "  <thead>\n",
       "    <tr style=\"text-align: right;\">\n",
       "      <th></th>\n",
       "      <th>Killed</th>\n",
       "      <th>Wounded</th>\n",
       "    </tr>\n",
       "    <tr>\n",
       "      <th>WeaponType</th>\n",
       "      <th></th>\n",
       "      <th></th>\n",
       "    </tr>\n",
       "  </thead>\n",
       "  <tbody>\n",
       "    <tr>\n",
       "      <th>Firearms</th>\n",
       "      <td>174894.0</td>\n",
       "      <td>77219.0</td>\n",
       "    </tr>\n",
       "    <tr>\n",
       "      <th>Explosives</th>\n",
       "      <td>174277.0</td>\n",
       "      <td>385904.0</td>\n",
       "    </tr>\n",
       "    <tr>\n",
       "      <th>Unknown</th>\n",
       "      <td>42620.0</td>\n",
       "      <td>17575.0</td>\n",
       "    </tr>\n",
       "    <tr>\n",
       "      <th>Melee</th>\n",
       "      <td>10575.0</td>\n",
       "      <td>5495.0</td>\n",
       "    </tr>\n",
       "    <tr>\n",
       "      <th>Incendiary</th>\n",
       "      <td>5476.0</td>\n",
       "      <td>5530.0</td>\n",
       "    </tr>\n",
       "    <tr>\n",
       "      <th>Vehicle (not to include vehicle-borne explosives, i.e., car or truck bombs)</th>\n",
       "      <td>3184.0</td>\n",
       "      <td>17121.0</td>\n",
       "    </tr>\n",
       "    <tr>\n",
       "      <th>Chemical</th>\n",
       "      <td>624.0</td>\n",
       "      <td>13825.0</td>\n",
       "    </tr>\n",
       "    <tr>\n",
       "      <th>Other</th>\n",
       "      <td>123.0</td>\n",
       "      <td>105.0</td>\n",
       "    </tr>\n",
       "    <tr>\n",
       "      <th>Sabotage Equipment</th>\n",
       "      <td>83.0</td>\n",
       "      <td>286.0</td>\n",
       "    </tr>\n",
       "    <tr>\n",
       "      <th>Biological</th>\n",
       "      <td>9.0</td>\n",
       "      <td>805.0</td>\n",
       "    </tr>\n",
       "    <tr>\n",
       "      <th>Radiological</th>\n",
       "      <td>2.0</td>\n",
       "      <td>4.0</td>\n",
       "    </tr>\n",
       "    <tr>\n",
       "      <th>Fake Weapons</th>\n",
       "      <td>1.0</td>\n",
       "      <td>0.0</td>\n",
       "    </tr>\n",
       "  </tbody>\n",
       "</table>\n",
       "</div>"
      ],
      "text/plain": [
       "                                                      Killed   Wounded\n",
       "WeaponType                                                            \n",
       "Firearms                                            174894.0   77219.0\n",
       "Explosives                                          174277.0  385904.0\n",
       "Unknown                                              42620.0   17575.0\n",
       "Melee                                                10575.0    5495.0\n",
       "Incendiary                                            5476.0    5530.0\n",
       "Vehicle (not to include vehicle-borne explosive...    3184.0   17121.0\n",
       "Chemical                                               624.0   13825.0\n",
       "Other                                                  123.0     105.0\n",
       "Sabotage Equipment                                      83.0     286.0\n",
       "Biological                                               9.0     805.0\n",
       "Radiological                                             2.0       4.0\n",
       "Fake Weapons                                             1.0       0.0"
      ]
     },
     "execution_count": 34,
     "metadata": {},
     "output_type": "execute_result"
    }
   ],
   "source": [
    "dw=data1.groupby(['WeaponType']).sum().sort_values('Killed',ascending=False)[['Killed','Wounded']]\n",
    "dw"
   ]
  },
  {
   "cell_type": "markdown",
   "metadata": {},
   "source": [
    "We can see that maximum killings were committed using Firearms and Explosives"
   ]
  },
  {
   "cell_type": "code",
   "execution_count": 35,
   "metadata": {},
   "outputs": [
    {
     "data": {
      "image/png": "[encoded data removed]",
      "text/plain": [
       "<Figure size 720x432 with 1 Axes>"
      ]
     },
     "metadata": {
      "needs_background": "light"
     },
     "output_type": "display_data"
    }
   ],
   "source": [
    "plt.figure(figsize=(10,6))\n",
    "sns.barplot(x='Killed',y=dw.index,data=dw)\n",
    "plt.show()"
   ]
  },
  {
   "cell_type": "markdown",
   "metadata": {},
   "source": [
    "### Analysis of killings based on attack type:"
   ]
  },
  {
   "cell_type": "code",
   "execution_count": 38,
   "metadata": {},
   "outputs": [
    {
     "data": {
      "text/html": [
       "<div>\n",
       "<style scoped>\n",
       "    .dataframe tbody tr th:only-of-type {\n",
       "        vertical-align: middle;\n",
       "    }\n",
       "\n",
       "    .dataframe tbody tr th {\n",
       "        vertical-align: top;\n",
       "    }\n",
       "\n",
       "    .dataframe thead th {\n",
       "        text-align: right;\n",
       "    }\n",
       "</style>\n",
       "<table border=\"1\" class=\"dataframe\">\n",
       "  <thead>\n",
       "    <tr style=\"text-align: right;\">\n",
       "      <th></th>\n",
       "      <th>Killed</th>\n",
       "      <th>Wounded</th>\n",
       "    </tr>\n",
       "    <tr>\n",
       "      <th>AttackType</th>\n",
       "      <th></th>\n",
       "      <th></th>\n",
       "    </tr>\n",
       "  </thead>\n",
       "  <tbody>\n",
       "    <tr>\n",
       "      <th>Armed Assault</th>\n",
       "      <td>160297.0</td>\n",
       "      <td>77366.0</td>\n",
       "    </tr>\n",
       "    <tr>\n",
       "      <th>Bombing/Explosion</th>\n",
       "      <td>157321.0</td>\n",
       "      <td>372686.0</td>\n",
       "    </tr>\n",
       "    <tr>\n",
       "      <th>Unknown</th>\n",
       "      <td>32381.0</td>\n",
       "      <td>14725.0</td>\n",
       "    </tr>\n",
       "    <tr>\n",
       "      <th>Assassination</th>\n",
       "      <td>24920.0</td>\n",
       "      <td>13887.0</td>\n",
       "    </tr>\n",
       "    <tr>\n",
       "      <th>Hostage Taking (Kidnapping)</th>\n",
       "      <td>24231.0</td>\n",
       "      <td>6446.0</td>\n",
       "    </tr>\n",
       "    <tr>\n",
       "      <th>Hostage Taking (Barricade Incident)</th>\n",
       "      <td>4478.0</td>\n",
       "      <td>3966.0</td>\n",
       "    </tr>\n",
       "    <tr>\n",
       "      <th>Hijacking</th>\n",
       "      <td>3718.0</td>\n",
       "      <td>17001.0</td>\n",
       "    </tr>\n",
       "    <tr>\n",
       "      <th>Facility/Infrastructure Attack</th>\n",
       "      <td>3642.0</td>\n",
       "      <td>3765.0</td>\n",
       "    </tr>\n",
       "    <tr>\n",
       "      <th>Unarmed Assault</th>\n",
       "      <td>880.0</td>\n",
       "      <td>14027.0</td>\n",
       "    </tr>\n",
       "  </tbody>\n",
       "</table>\n",
       "</div>"
      ],
      "text/plain": [
       "                                       Killed   Wounded\n",
       "AttackType                                             \n",
       "Armed Assault                        160297.0   77366.0\n",
       "Bombing/Explosion                    157321.0  372686.0\n",
       "Unknown                               32381.0   14725.0\n",
       "Assassination                         24920.0   13887.0\n",
       "Hostage Taking (Kidnapping)           24231.0    6446.0\n",
       "Hostage Taking (Barricade Incident)    4478.0    3966.0\n",
       "Hijacking                              3718.0   17001.0\n",
       "Facility/Infrastructure Attack         3642.0    3765.0\n",
       "Unarmed Assault                         880.0   14027.0"
      ]
     },
     "execution_count": 38,
     "metadata": {},
     "output_type": "execute_result"
    }
   ],
   "source": [
    "da=data1.groupby(['AttackType']).sum().sort_values('Killed',ascending=False)[['Killed','Wounded']]\n",
    "da"
   ]
  },
  {
   "cell_type": "markdown",
   "metadata": {},
   "source": [
    "Maximum people were killed by Armed Assault"
   ]
  },
  {
   "cell_type": "code",
   "execution_count": 39,
   "metadata": {},
   "outputs": [
    {
     "data": {
      "image/png": "[encoded data removed]",
      "text/plain": [
       "<Figure size 720x432 with 1 Axes>"
      ]
     },
     "metadata": {
      "needs_background": "light"
     },
     "output_type": "display_data"
    }
   ],
   "source": [
    "plt.figure(figsize=(10,6))\n",
    "sns.barplot(x='Killed',y=da.index,data=da)\n",
    "plt.show()"
   ]
  },
  {
   "cell_type": "markdown",
   "metadata": {},
   "source": [
    "# Conclusion:"
   ]
  },
  {
   "cell_type": "markdown",
   "metadata": {},
   "source": [
    "- **Middle East and North Africa** region is the hot zone of terrorism.\n",
    "- In countries, **Iraq** is the hot zone of terrorism.\n",
    "- In cities, **Baghdad** is the hot zone of terrorism.\n",
    "- Maximum terror attacks happened in the year **2014**.\n",
    "- **Taliban** committed the maximum terror attacks.\n",
    "- In most terror attacks terrorists target Private Citizens and Property.\n",
    "- The maximum number of people were killed in the **Middle East and North Africa** region.\n",
    "- **Iraq** is on top in the maximum number of killings in terror attacks.\n",
    "- **Islamic State of Iraq and the Levant (ISIL)** group committed the maximum killings.\n",
    "- Maximum killings were committed using Firearms and Explosives.\n",
    "- Maximum people were killed by Armed Assault."
   ]
  },
  {
   "cell_type": "markdown",
   "metadata": {},
   "source": [
    "# Thank You"
   ]
  }
 ],
 "metadata": {
  "kernelspec": {
   "display_name": "Python 3",
   "language": "python",
   "name": "python3"
  },
  "language_info": {
   "codemirror_mode": {
    "name": "ipython",
    "version": 3
   },
   "file_extension": ".py",
   "mimetype": "text/x-python",
   "name": "python",
   "nbconvert_exporter": "python",
   "pygments_lexer": "ipython3",
   "version": "3.8.5"
  }
 },
 "nbformat": 4,
 "nbformat_minor": 4
}
